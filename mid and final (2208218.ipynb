{
 "cells": [
  {
   "cell_type": "code",
   "execution_count": 1,
   "id": "c8258c6d-4aaa-42e8-aea4-53ba8c301e88",
   "metadata": {},
   "outputs": [
    {
     "name": "stdout",
     "output_type": "stream",
     "text": [
      "✅ sales.csv file created with 100 sales records.\n"
     ]
    }
   ],
   "source": [
    "import pandas as pd\n",
    "import random\n",
    "from datetime import datetime, timedelta\n",
    "\n",
    "# Sample products\n",
    "products = ['WidgetA', 'WidgetB', 'WidgetC', 'WidgetD']\n",
    "\n",
    "# Generate 100 sales records\n",
    "data = []\n",
    "start_date = datetime(2025, 1, 1)\n",
    "\n",
    "for i in range(100):\n",
    "    date = start_date + timedelta(days=random.randint(0, 180))\n",
    "    product = random.choice(products)\n",
    "    quantity = random.randint(1, 20)\n",
    "    price = round(random.uniform(10.0, 50.0), 2)\n",
    "    \n",
    "    data.append([date.strftime('%Y-%m-%d'), product, quantity, price])\n",
    "\n",
    "# Create DataFrame\n",
    "df = pd.DataFrame(data, columns=['Date', 'Product', 'Quantity', 'Price'])\n",
    "\n",
    "# Save to CSV\n",
    "df.to_csv('sales.csv', index=False)\n",
    "\n",
    "print(\"✅ sales.csv file created with 100 sales records.\")"
   ]
  },
  {
   "cell_type": "code",
   "execution_count": 2,
   "id": "07933561-c0d5-487a-ae4b-20b22a37561c",
   "metadata": {},
   "outputs": [
    {
     "name": "stdout",
     "output_type": "stream",
     "text": [
      "Date        0\n",
      "Product     0\n",
      "Quantity    0\n",
      "Price       0\n",
      "dtype: int64\n"
     ]
    }
   ],
   "source": [
    "import pandas as pd\n",
    "\n",
    "# Load the dataset\n",
    "df = pd.read_csv('sales.csv')\n",
    "\n",
    "# Check for missing values in each column\n",
    "missing_values = df.isnull().sum()\n",
    "\n",
    "# Display the result\n",
    "print(missing_values)"
   ]
  },
  {
   "cell_type": "code",
   "execution_count": 3,
   "id": "f147074a-d504-4228-a6f1-8f80d8b999ea",
   "metadata": {},
   "outputs": [
    {
     "name": "stdout",
     "output_type": "stream",
     "text": [
      "         Date  Product  Quantity  Price\n",
      "0  2025-06-21  WidgetB         1  15.11\n",
      "1  2025-03-04  WidgetC        12  41.98\n",
      "2  2025-01-24  WidgetD        13  40.94\n",
      "3  2025-05-17  WidgetB         5  29.77\n",
      "4  2025-02-11  WidgetA        11  28.38\n"
     ]
    }
   ],
   "source": [
    "import pandas as pd\n",
    "\n",
    "# Load the CSV file\n",
    "df = pd.read_csv('sales.csv')\n",
    "\n",
    "# Display the first 5 rows\n",
    "print(df.head())"
   ]
  },
  {
   "cell_type": "code",
   "execution_count": 4,
   "id": "b1ae9ef3-5a8b-480d-9b7c-d2021600a780",
   "metadata": {},
   "outputs": [
    {
     "name": "stdout",
     "output_type": "stream",
     "text": [
      "Region\n",
      "East     291.691786\n",
      "North    360.761613\n",
      "South    339.424118\n",
      "West     322.322083\n",
      "Name: Sales, dtype: float64\n"
     ]
    }
   ],
   "source": [
    "import pandas as pd\n",
    "import random\n",
    "\n",
    "\n",
    "df = pd.read_csv('sales.csv')\n",
    "\n",
    "\n",
    "regions = ['North', 'South', 'East', 'West']\n",
    "df['Region'] = [random.choice(regions) for _ in range(len(df))]\n",
    "\n",
    "\n",
    "df['Sales'] = df['Quantity'] * df['Price']\n",
    "\n",
    "\n",
    "avg_sales_by_region = df.groupby('Region')['Sales'].mean()\n",
    "\n",
    "\n",
    "print(avg_sales_by_region)"
   ]
  },
  {
   "cell_type": "code",
   "execution_count": 5,
   "id": "e52d3624-b15c-490c-8002-a8b9c136a34d",
   "metadata": {},
   "outputs": [
    {
     "name": "stdout",
     "output_type": "stream",
     "text": [
      "         Date  Product  Quantity  Price   Sales   Cost  Profit\n",
      "0  2025-06-21  WidgetB         1  15.11   15.11   15.0    0.11\n",
      "1  2025-03-04  WidgetC        12  41.98  503.76  180.0  323.76\n",
      "2  2025-01-24  WidgetD        13  40.94  532.22  195.0  337.22\n",
      "3  2025-05-17  WidgetB         5  29.77  148.85   75.0   73.85\n",
      "4  2025-02-11  WidgetA        11  28.38  312.18  165.0  147.18\n"
     ]
    }
   ],
   "source": [
    "import pandas as pd\n",
    "\n",
    "\n",
    "df = pd.read_csv('sales.csv')\n",
    "\n",
    "\n",
    "df['Region'] = [random.choice(['North', 'South', 'East', 'West']) for _ in range(len(df))]\n",
    "df['Sales'] = df['Quantity'] * df['Price']\n",
    "\n",
    "\n",
    "cost_per_unit = 15.0\n",
    "df['Cost'] = df['Quantity'] * cost_per_unit\n",
    "\n",
    "\n",
    "df['Profit'] = df['Sales'] - df['Cost']\n",
    "\n",
    "\n",
    "print(df[['Date', 'Product', 'Quantity', 'Price', 'Sales', 'Cost', 'Profit']].head())"
   ]
  },
  {
   "cell_type": "code",
   "execution_count": 6,
   "id": "93d79784-132a-40fd-a57d-8d5b81bf878a",
   "metadata": {},
   "outputs": [
    {
     "name": "stdout",
     "output_type": "stream",
     "text": [
      "          Date  Product  Quantity  Price   Sales\n",
      "80  2025-05-07  WidgetA        18  49.77  895.86\n",
      "7   2025-06-12  WidgetC        18  48.65  875.70\n",
      "46  2025-05-20  WidgetA        18  48.09  865.62\n",
      "69  2025-04-14  WidgetA        17  48.17  818.89\n",
      "49  2025-02-20  WidgetD        19  41.95  797.05\n"
     ]
    }
   ],
   "source": [
    "import pandas as pd\n",
    "\n",
    "\n",
    "df = pd.read_csv('sales.csv')\n",
    "\n",
    "\n",
    "df['Sales'] = df['Quantity'] * df['Price']\n",
    "\n",
    "\n",
    "df_sorted = df.sort_values(by='Sales', ascending=False)\n",
    "\n",
    "\n",
    "print(df_sorted.head())"
   ]
  },
  {
   "cell_type": "code",
   "execution_count": null,
   "id": "2499464c-3822-4690-b402-eb9306b64428",
   "metadata": {},
   "outputs": [],
   "source": []
  }
 ],
 "metadata": {
  "kernelspec": {
   "display_name": "Python 3 (ipykernel)",
   "language": "python",
   "name": "python3"
  },
  "language_info": {
   "codemirror_mode": {
    "name": "ipython",
    "version": 3
   },
   "file_extension": ".py",
   "mimetype": "text/x-python",
   "name": "python",
   "nbconvert_exporter": "python",
   "pygments_lexer": "ipython3",
   "version": "3.12.7"
  }
 },
 "nbformat": 4,
 "nbformat_minor": 5
}
